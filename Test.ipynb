{
 "cells": [
  {
   "cell_type": "code",
   "execution_count": null,
   "metadata": {},
   "outputs": [],
   "source": [
    "import torch\n",
    "\n",
    "torch.has_mps"
   ]
  },
  {
   "cell_type": "code",
   "execution_count": null,
   "metadata": {},
   "outputs": [],
   "source": [
    "from transformers import pipeline\n",
    "\n",
    "generator = pipeline('text-generation', model='./gpt2-hvac', tokenizer='gpt2')"
   ]
  },
  {
   "cell_type": "code",
   "execution_count": null,
   "metadata": {},
   "outputs": [],
   "source": [
    "num_inputs = 11\n",
    "num_outputs = 7\n",
    "\n",
    "all_prediction_errors = []\n",
    "\n",
    "# function to get mean of columns of list of lists\n",
    "def mean_columns(list_of_lists):\n",
    "    mean_list = []\n",
    "    for i in range(len(list_of_lists[0])):\n",
    "        column_mean = 0\n",
    "        for j in range(len(list_of_lists)):\n",
    "            column_mean += list_of_lists[j][i]\n",
    "        mean_list.append(column_mean / len(list_of_lists))\n",
    "    return mean_list\n",
    "\n",
    "with open('test_dataset.txt', 'r') as f:\n",
    "    for line in f:\n",
    "        while True:\n",
    "            try:\n",
    "                parts = line.strip().split(',')\n",
    "                numbers = [float(x) for x in parts]\n",
    "                inputs = numbers[:num_inputs]\n",
    "                outputs = numbers[num_inputs:]\n",
    "                generated_text = generator(','.join([str(x) for x in inputs]) + ',', max_new_tokens=128, return_full_text=False)[0]['generated_text']\n",
    "                predicted_outputs = [float(x.split()[0]) for x in generated_text.split(',')][:len(outputs)]\n",
    "                prediction_errors = [abs(x - y) for x, y in zip(outputs, predicted_outputs)]\n",
    "                all_prediction_errors.append(prediction_errors)\n",
    "                mean_all_prediction_errors = mean_columns(all_prediction_errors)\n",
    "                print('Current mean output errors:', mean_all_prediction_errors)\n",
    "                print('Current total mean error:', sum(mean_all_prediction_errors) / len(mean_all_prediction_errors))\n",
    "                break\n",
    "            except (IndexError, ValueError) as error:\n",
    "                print(error)\n",
    "                print('Trying again')\n",
    "            "
   ]
  }
 ],
 "metadata": {
  "interpreter": {
   "hash": "b03500ce55b291f8816d5441524bb5fc71203f9aa40c27b9c98ac0587038fe3e"
  },
  "kernelspec": {
   "display_name": "Python 3.9.12 ('.env': venv)",
   "language": "python",
   "name": "python3"
  },
  "language_info": {
   "codemirror_mode": {
    "name": "ipython",
    "version": 3
   },
   "file_extension": ".py",
   "mimetype": "text/x-python",
   "name": "python",
   "nbconvert_exporter": "python",
   "pygments_lexer": "ipython3",
   "version": "3.9.12"
  },
  "orig_nbformat": 4
 },
 "nbformat": 4,
 "nbformat_minor": 2
}
